{
 "cells": [
  {
   "cell_type": "code",
   "execution_count": 1,
   "id": "e4fdbfa2",
   "metadata": {},
   "outputs": [],
   "source": [
    "from PIL import Image\n",
    "import os"
   ]
  },
  {
   "cell_type": "code",
   "execution_count": 2,
   "id": "df41c1bb",
   "metadata": {},
   "outputs": [],
   "source": [
    "def split_image(input_image_path, output_path, size):\n",
    "    image = Image.open(input_image_path)\n",
    "    width, height = image.size\n",
    "    count = 0\n",
    "    filename = os.path.basename(input_image_path).split(\".\")[0]\n",
    "\n",
    "    for i in range(0, width, size):\n",
    "        for j in range(0, height, size):\n",
    "            left = i\n",
    "            upper = j\n",
    "            right = i + size\n",
    "            lower = j + size\n",
    "            cropped = image.crop((left, upper, right, lower))\n",
    "            output_image_path = os.path.join(output_path, f\"{filename}_{size}_{count}.png\")\n",
    "            cropped.save(output_image_path)\n",
    "            count += 1\n",
    "\n",
    "def process_directory(input_dir, output_dir, size):\n",
    "    if not os.path.exists(output_dir):\n",
    "        os.makedirs(output_dir)\n",
    "\n",
    "    for root, dirs, files in os.walk(input_dir):\n",
    "        for file in files:\n",
    "            if file.endswith(\".png\"):\n",
    "                input_image_path = os.path.join(root, file)\n",
    "                split_image(input_image_path, output_dir, size)\n",
    "                print(f'{input_image_path} split done')"
   ]
  },
  {
   "cell_type": "code",
   "execution_count": 3,
   "id": "9cc3b3ec",
   "metadata": {},
   "outputs": [
    {
     "name": "stdout",
     "output_type": "stream",
     "text": [
      "/home/anna/skola/KSY/dataset_pismena/unsplit/xx.png split done\n",
      "/home/anna/skola/KSY/dataset_pismena/unsplit/p.png split done\n",
      "/home/anna/skola/KSY/dataset_pismena/unsplit/nn.png split done\n",
      "/home/anna/skola/KSY/dataset_pismena/unsplit/r.png split done\n",
      "/home/anna/skola/KSY/dataset_pismena/unsplit/bb.png split done\n",
      "/home/anna/skola/KSY/dataset_pismena/unsplit/oo.png split done\n",
      "/home/anna/skola/KSY/dataset_pismena/unsplit/n.png split done\n",
      "/home/anna/skola/KSY/dataset_pismena/unsplit/q.png split done\n",
      "/home/anna/skola/KSY/dataset_pismena/unsplit/rr.png split done\n",
      "/home/anna/skola/KSY/dataset_pismena/unsplit/ii.png split done\n",
      "/home/anna/skola/KSY/dataset_pismena/unsplit/uu.png split done\n",
      "/home/anna/skola/KSY/dataset_pismena/unsplit/ll.png split done\n",
      "/home/anna/skola/KSY/dataset_pismena/unsplit/ww.png split done\n",
      "/home/anna/skola/KSY/dataset_pismena/unsplit/e.png split done\n",
      "/home/anna/skola/KSY/dataset_pismena/unsplit/mm.png split done\n",
      "/home/anna/skola/KSY/dataset_pismena/unsplit/vv.png split done\n",
      "/home/anna/skola/KSY/dataset_pismena/unsplit/h.png split done\n",
      "/home/anna/skola/KSY/dataset_pismena/unsplit/a.png split done\n",
      "/home/anna/skola/KSY/dataset_pismena/unsplit/ee.png split done\n",
      "/home/anna/skola/KSY/dataset_pismena/unsplit/k.png split done\n",
      "/home/anna/skola/KSY/dataset_pismena/unsplit/ss.png split done\n",
      "/home/anna/skola/KSY/dataset_pismena/unsplit/y.png split done\n",
      "/home/anna/skola/KSY/dataset_pismena/unsplit/dd.png split done\n",
      "/home/anna/skola/KSY/dataset_pismena/unsplit/jj.png split done\n",
      "/home/anna/skola/KSY/dataset_pismena/unsplit/w.png split done\n",
      "/home/anna/skola/KSY/dataset_pismena/unsplit/c.png split done\n",
      "/home/anna/skola/KSY/dataset_pismena/unsplit/l.png split done\n",
      "/home/anna/skola/KSY/dataset_pismena/unsplit/pp.png split done\n",
      "/home/anna/skola/KSY/dataset_pismena/unsplit/j.png split done\n",
      "/home/anna/skola/KSY/dataset_pismena/unsplit/kk.png split done\n",
      "/home/anna/skola/KSY/dataset_pismena/unsplit/ff.png split done\n",
      "/home/anna/skola/KSY/dataset_pismena/unsplit/m.png split done\n",
      "/home/anna/skola/KSY/dataset_pismena/unsplit/f.png split done\n",
      "/home/anna/skola/KSY/dataset_pismena/unsplit/qq.png split done\n",
      "/home/anna/skola/KSY/dataset_pismena/unsplit/aa.png split done\n",
      "/home/anna/skola/KSY/dataset_pismena/unsplit/t.png split done\n",
      "/home/anna/skola/KSY/dataset_pismena/unsplit/tt.png split done\n",
      "/home/anna/skola/KSY/dataset_pismena/unsplit/o.png split done\n",
      "/home/anna/skola/KSY/dataset_pismena/unsplit/i.png split done\n",
      "/home/anna/skola/KSY/dataset_pismena/unsplit/s.png split done\n",
      "/home/anna/skola/KSY/dataset_pismena/unsplit/v.png split done\n",
      "/home/anna/skola/KSY/dataset_pismena/unsplit/u.png split done\n",
      "/home/anna/skola/KSY/dataset_pismena/unsplit/x.png split done\n",
      "/home/anna/skola/KSY/dataset_pismena/unsplit/cc.png split done\n",
      "/home/anna/skola/KSY/dataset_pismena/unsplit/z.png split done\n",
      "/home/anna/skola/KSY/dataset_pismena/unsplit/zz.png split done\n",
      "/home/anna/skola/KSY/dataset_pismena/unsplit/yy.png split done\n",
      "/home/anna/skola/KSY/dataset_pismena/unsplit/d.png split done\n",
      "/home/anna/skola/KSY/dataset_pismena/unsplit/g.png split done\n",
      "/home/anna/skola/KSY/dataset_pismena/unsplit/gg.png split done\n",
      "/home/anna/skola/KSY/dataset_pismena/unsplit/hh.png split done\n",
      "/home/anna/skola/KSY/dataset_pismena/unsplit/b.png split done\n"
     ]
    }
   ],
   "source": [
    "input_dir = \"/home/anna/skola/KSY/dataset_pismena/unsplit\"\n",
    "output_dir = \"/home/anna/skola/KSY/dataset_pismena/split\"\n",
    "size = 128\n",
    "\n",
    "process_directory(input_dir, output_dir, size)"
   ]
  }
 ],
 "metadata": {
  "kernelspec": {
   "display_name": "Python 3 (ipykernel)",
   "language": "python",
   "name": "python3"
  },
  "language_info": {
   "codemirror_mode": {
    "name": "ipython",
    "version": 3
   },
   "file_extension": ".py",
   "mimetype": "text/x-python",
   "name": "python",
   "nbconvert_exporter": "python",
   "pygments_lexer": "ipython3",
   "version": "3.11.5"
  }
 },
 "nbformat": 4,
 "nbformat_minor": 5
}
