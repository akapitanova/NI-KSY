{
 "cells": [
  {
   "cell_type": "code",
   "execution_count": 1,
   "metadata": {
    "ExecuteTime": {
     "end_time": "2024-01-16T13:31:23.226559700Z",
     "start_time": "2024-01-16T13:31:03.822768500Z"
    }
   },
   "outputs": [],
   "source": [
    "import torch\n",
    "import torch.nn as nn\n",
    "import torchvision.transforms as transforms\n",
    "import torch.nn.functional as F\n",
    "from torchvision.io import read_image\n",
    "from torchvision import transforms\n",
    "from PIL import Image\n",
    "import math"
   ]
  },
  {
   "cell_type": "code",
   "execution_count": 2,
   "metadata": {
    "ExecuteTime": {
     "end_time": "2024-01-16T13:31:25.816638600Z",
     "start_time": "2024-01-16T13:31:25.791678100Z"
    }
   },
   "outputs": [
    {
     "name": "stdout",
     "output_type": "stream",
     "text": [
      "14 14\n"
     ]
    }
   ],
   "source": [
    "# Hyperparameters\n",
    "batch_size = 16\n",
    "learning_rate = 0.001\n",
    "\n",
    "image_width = 28\n",
    "image_height = 28\n",
    "# Convolutional layer parameters\n",
    "kernel_size = 3\n",
    "stride = 1\n",
    "padding = 1\n",
    "channels = 32\n",
    "\n",
    "# Calculate output size after convolutional layer\n",
    "conv_output_width = math.floor((image_width - kernel_size + 2 * padding) / stride) + 1\n",
    "conv_output_height = math.floor((image_height - kernel_size + 2 * padding) / stride) + 1\n",
    "\n",
    "# Calculate output size after max pooling layer\n",
    "pool_output_width = math.floor(conv_output_width / 2)\n",
    "pool_output_height = math.floor(conv_output_height / 2)\n",
    "print(pool_output_width, pool_output_height)"
   ]
  },
  {
   "cell_type": "code",
   "execution_count": 3,
   "metadata": {
    "ExecuteTime": {
     "end_time": "2024-01-16T13:31:28.192066100Z",
     "start_time": "2024-01-16T13:31:28.169383600Z"
    }
   },
   "outputs": [],
   "source": [
    "class CNN(nn.Module):\n",
    "    def __init__(self):\n",
    "        super(CNN, self).__init__()\n",
    "        self.conv1 = nn.Conv2d(1, channels, kernel_size=kernel_size, stride=stride, padding=padding)\n",
    "        self.pool = nn.MaxPool2d(kernel_size=2, stride=2, padding=0)\n",
    "        self.fc1 = nn.Linear(pool_output_width * pool_output_height * channels, 128)\n",
    "        self.fc2 = nn.Linear(128, 1)\n",
    "\n",
    "    def forward(self, x):\n",
    "        x = self.pool(F.relu(self.conv1(x)))\n",
    "        x = x.view(-1, pool_output_width * pool_output_height * channels)\n",
    "        x = F.relu(self.fc1(x))\n",
    "        x = self.fc2(x)\n",
    "        return x"
   ]
  },
  {
   "cell_type": "code",
   "execution_count": 4,
   "metadata": {
    "ExecuteTime": {
     "end_time": "2024-01-16T13:31:31.490044600Z",
     "start_time": "2024-01-16T13:31:31.232407Z"
    }
   },
   "outputs": [
    {
     "name": "stdout",
     "output_type": "stream",
     "text": [
      "Our image: 1\n",
      "Foreign image: 0\n"
     ]
    }
   ],
   "source": [
    "def read_image(path):\n",
    "    return Image.open(path)\n",
    "# load model\n",
    "model = CNN()\n",
    "model.load_state_dict(torch.load('binary_classifier_cnn_letters.pth'))\n",
    "\n",
    "# load our and foreign image:\n",
    "our_image = read_image('./our.png')\n",
    "foreign_image = read_image('./foreign.png')\n",
    "\n",
    "# convert to tensor\n",
    "transform = transforms.Compose([\n",
    "    transforms.Grayscale(num_output_channels=1),\n",
    "    transforms.ToTensor(),\n",
    "    transforms.Normalize((0.5,), (0.5,))\n",
    "])\n",
    "\n",
    "# transform images\n",
    "our_image = transform(our_image)\n",
    "foreign_image = transform(foreign_image)\n",
    "\n",
    "# evaluate images by model\n",
    "our_image = our_image.unsqueeze(0)\n",
    "foreign_image = foreign_image.unsqueeze(0)\n",
    "our_output = model(our_image)\n",
    "foreign_output = model(foreign_image)\n",
    "\n",
    "# evaluate output\n",
    "our_output = torch.squeeze(our_output)\n",
    "foreign_output = torch.squeeze(foreign_output)\n",
    "our_output = (our_output > 0).int()\n",
    "foreign_output = (foreign_output > 0).int()\n",
    "\n",
    "\n",
    "# print results\n",
    "print(f'Our image: {our_output}')\n",
    "print(f'Foreign image: {foreign_output}')"
   ]
  }
 ],
 "metadata": {
  "language_info": {
   "name": "python"
  },
  "kernelspec": {
   "name": "python3",
   "language": "python",
   "display_name": "Python 3 (ipykernel)"
  }
 },
 "nbformat": 4,
 "nbformat_minor": 2
}
