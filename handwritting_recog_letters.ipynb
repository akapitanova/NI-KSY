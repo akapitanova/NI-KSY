{
 "cells": [
  {
   "cell_type": "markdown",
   "metadata": {
    "id": "AXJxkc2_AguP"
   },
   "source": [
    "# Data loading"
   ]
  },
  {
   "cell_type": "code",
   "execution_count": 1,
   "metadata": {
    "ExecuteTime": {
     "end_time": "2023-12-03T15:14:14.115822Z",
     "start_time": "2023-12-03T15:14:14.096747300Z"
    },
    "colab": {
     "base_uri": "https://localhost:8080/"
    },
    "id": "V4oseuDC80YX",
    "outputId": "0db91101-d019-4672-bfdb-2cbd4496ab6d"
   },
   "outputs": [],
   "source": [
    "# from zipfile import ZipFile\n",
    "# train = './train.zip'\n",
    "# \n",
    "# with ZipFile(train, 'r') as zip:\n",
    "#   zip.extractall()\n",
    "#   print('Done')"
   ]
  },
  {
   "cell_type": "code",
   "execution_count": 2,
   "metadata": {
    "ExecuteTime": {
     "end_time": "2023-12-03T15:14:14.128854400Z",
     "start_time": "2023-12-03T15:14:14.116820600Z"
    },
    "colab": {
     "base_uri": "https://localhost:8080/"
    },
    "id": "OJcrkqCl80DR",
    "outputId": "1a84c435-1b2b-4a6d-bc4a-e8b190af8dad"
   },
   "outputs": [],
   "source": [
    "# from zipfile import ZipFile\n",
    "# test = './test.zip'\n",
    "# \n",
    "# with ZipFile(test, 'r') as zip:\n",
    "#   zip.extractall()\n",
    "#   print('Done')"
   ]
  },
  {
   "cell_type": "code",
   "execution_count": 13,
   "metadata": {
    "id": "M0hobcehCRlp",
    "ExecuteTime": {
     "end_time": "2024-01-15T10:22:12.590416700Z",
     "start_time": "2024-01-15T10:22:12.569385800Z"
    }
   },
   "outputs": [],
   "source": [
    "import torch\n",
    "import torch.nn as nn\n",
    "import torch.optim as optim\n",
    "import torchvision.transforms as transforms\n",
    "from torch.utils.data import DataLoader, Dataset\n",
    "from torchvision.datasets import ImageFolder\n",
    "from torchvision.io import read_image\n",
    "from torch.utils.data import DataLoader\n",
    "from torch.utils.data import Dataset\n",
    "import os\n",
    "import torch.nn.functional as F\n",
    "import torchvision\n",
    "import math\n",
    "import matplotlib.pyplot as plt"
   ]
  },
  {
   "cell_type": "markdown",
   "metadata": {
    "id": "AAJ0zUpdAm98"
   },
   "source": [
    "# Data preprossing"
   ]
  },
  {
   "cell_type": "code",
   "execution_count": 14,
   "metadata": {
    "id": "saI77vxKAy2A",
    "ExecuteTime": {
     "end_time": "2024-01-15T10:22:14.696911700Z",
     "start_time": "2024-01-15T10:22:14.657914800Z"
    }
   },
   "outputs": [],
   "source": [
    "# Data preprocessing\n",
    "transform = transforms.Compose([\n",
    "    transforms.Grayscale(num_output_channels=1),\n",
    "    transforms.ToTensor(),\n",
    "    transforms.Normalize((0.5,), (0.5,))\n",
    "])"
   ]
  },
  {
   "cell_type": "code",
   "execution_count": 15,
   "metadata": {
    "id": "QQUDF5efAyrx",
    "ExecuteTime": {
     "end_time": "2024-01-15T10:22:16.713349200Z",
     "start_time": "2024-01-15T10:22:16.686358600Z"
    }
   },
   "outputs": [
    {
     "name": "stdout",
     "output_type": "stream",
     "text": [
      "done\n"
     ]
    }
   ],
   "source": [
    "train_dir = './dataset_slova/train'\n",
    "test_dir = './dataset_slova/test'\n",
    "print(\"done\")"
   ]
  },
  {
   "cell_type": "code",
   "execution_count": 16,
   "metadata": {
    "id": "AAT7z4QpC4WU",
    "ExecuteTime": {
     "end_time": "2024-01-15T10:22:18.489413500Z",
     "start_time": "2024-01-15T10:22:18.474413600Z"
    }
   },
   "outputs": [],
   "source": [
    "# Create datasets\n",
    "train_dataset = ImageFolder(train_dir, transform=transform)\n",
    "test_dataset = ImageFolder(test_dir, transform=transform)"
   ]
  },
  {
   "cell_type": "markdown",
   "metadata": {
    "id": "Wauxgc0_AwGI"
   },
   "source": [
    "# Training"
   ]
  },
  {
   "cell_type": "code",
   "execution_count": 17,
   "metadata": {
    "id": "inab5UGx0uVU",
    "ExecuteTime": {
     "end_time": "2024-01-15T10:22:22.053411100Z",
     "start_time": "2024-01-15T10:22:22.011408100Z"
    }
   },
   "outputs": [
    {
     "name": "stdout",
     "output_type": "stream",
     "text": [
      "237 50\n"
     ]
    }
   ],
   "source": [
    "# Hyperparameters\n",
    "batch_size = 16\n",
    "learning_rate = 0.001\n",
    "\n",
    "image_width = 475\n",
    "image_height = 100\n",
    "# Convolutional layer parameters\n",
    "kernel_size = 3\n",
    "stride = 1\n",
    "padding = 1\n",
    "channels = 32\n",
    "\n",
    "# Calculate output size after convolutional layer\n",
    "conv_output_width = math.floor((image_width - kernel_size + 2 * padding) / stride) + 1\n",
    "conv_output_height = math.floor((image_height - kernel_size + 2 * padding) / stride) + 1\n",
    "\n",
    "# Calculate output size after max pooling layer\n",
    "pool_output_width = math.floor(conv_output_width / 2)\n",
    "pool_output_height = math.floor(conv_output_height / 2)\n",
    "print(pool_output_width, pool_output_height)"
   ]
  },
  {
   "cell_type": "code",
   "execution_count": 18,
   "metadata": {
    "id": "xadS7gBN30zV",
    "ExecuteTime": {
     "end_time": "2024-01-15T10:22:24.125353300Z",
     "start_time": "2024-01-15T10:22:24.084286800Z"
    }
   },
   "outputs": [],
   "source": [
    "# Create data loaders\n",
    "train_loader = DataLoader(train_dataset, batch_size=batch_size, shuffle=True)\n",
    "test_loader = DataLoader(test_dataset, batch_size=batch_size, shuffle=True)"
   ]
  },
  {
   "cell_type": "code",
   "execution_count": 19,
   "metadata": {
    "id": "9DbL8mnRVJSG",
    "ExecuteTime": {
     "end_time": "2024-01-15T10:22:54.892838500Z",
     "start_time": "2024-01-15T10:22:54.864836400Z"
    }
   },
   "outputs": [],
   "source": [
    "class CNN(nn.Module):\n",
    "    def __init__(self):\n",
    "        super(CNN, self).__init__()\n",
    "        self.conv1 = nn.Conv2d(1, channels, kernel_size=kernel_size, stride=stride, padding=padding)\n",
    "        self.pool = nn.MaxPool2d(kernel_size=2, stride=2, padding=0)\n",
    "        self.fc1 = nn.Linear(pool_output_width * pool_output_height * channels, 128)\n",
    "        self.fc2 = nn.Linear(128, 1)\n",
    "\n",
    "    def forward(self, x):\n",
    "        x = self.pool(F.relu(self.conv1(x)))\n",
    "        x = x.view(-1, pool_output_width * pool_output_height * channels)\n",
    "        x = F.relu(self.fc1(x))\n",
    "        x = self.fc2(x)\n",
    "        return x"
   ]
  },
  {
   "cell_type": "code",
   "execution_count": 20,
   "metadata": {
    "id": "18obzU3WVJN6",
    "ExecuteTime": {
     "end_time": "2024-01-15T10:22:56.959510900Z",
     "start_time": "2024-01-15T10:22:56.547516Z"
    }
   },
   "outputs": [],
   "source": [
    "model = CNN()\n",
    "criterion = nn.BCEWithLogitsLoss()\n",
    "optimizer = optim.Adam(model.parameters(), lr=0.001)"
   ]
  },
  {
   "cell_type": "code",
   "execution_count": 21,
   "metadata": {
    "id": "zjHs--fOVJJ5",
    "ExecuteTime": {
     "end_time": "2024-01-15T10:22:58.627548800Z",
     "start_time": "2024-01-15T10:22:58.609548600Z"
    }
   },
   "outputs": [],
   "source": [
    "def train(model, train_loader, optimizer, criterion):\n",
    "    train_loss = 0\n",
    "\n",
    "    model.train()\n",
    "    for inputs, labels in train_loader:\n",
    "        optimizer.zero_grad()\n",
    "        outputs = model(inputs)\n",
    "        #print(outputs.shape)\n",
    "        outputs = torch.squeeze(outputs)\n",
    "        #print(outputs.shape)\n",
    "        loss = criterion(outputs, labels.float())\n",
    "        loss.backward()\n",
    "        optimizer.step()\n",
    "\n",
    "        train_loss += loss.item()*inputs.size(0)\n",
    "\n",
    "    return train_loss\n",
    "\n",
    "def evaluate(model, test_loader):\n",
    "    model.eval()\n",
    "    correct = 0\n",
    "    total = 0\n",
    "    with torch.no_grad():\n",
    "        for inputs, labels in test_loader:\n",
    "            outputs = model(inputs)\n",
    "            #print(outputs.shape)\n",
    "            outputs = torch.squeeze(outputs)\n",
    "            #print(outputs.shape)\n",
    "            predicted = (outputs > 0).int()  # Convert logits to binary predictions\n",
    "            total += labels.size(0)\n",
    "            correct += (predicted == labels).sum().item()\n",
    "    accuracy = correct / total\n",
    "    print(f'total: {total}, correct: {correct}')\n",
    "    return accuracy\n"
   ]
  },
  {
   "cell_type": "code",
   "execution_count": 12,
   "metadata": {
    "ExecuteTime": {
     "end_time": "2023-12-03T15:15:59.164467100Z",
     "start_time": "2023-12-03T15:14:18.899072300Z"
    },
    "colab": {
     "base_uri": "https://localhost:8080/"
    },
    "id": "fii26uujrOae",
    "outputId": "f7434030-2b34-4f14-da77-c60469e2581a"
   },
   "outputs": [
    {
     "name": "stdout",
     "output_type": "stream",
     "text": [
      "total: 240, correct: 120\n",
      "Epoch 1/10, Train Loss: 2643.2713, Test Accuracy: 50.00%\n",
      "total: 240, correct: 122\n",
      "Epoch 2/10, Train Loss: 706.3641, Test Accuracy: 50.83%\n",
      "total: 240, correct: 127\n",
      "Epoch 3/10, Train Loss: 310.6008, Test Accuracy: 52.92%\n",
      "total: 240, correct: 126\n",
      "Epoch 4/10, Train Loss: 125.2239, Test Accuracy: 52.50%\n",
      "total: 240, correct: 128\n",
      "Epoch 5/10, Train Loss: 58.9300, Test Accuracy: 53.33%\n",
      "total: 240, correct: 136\n",
      "Epoch 6/10, Train Loss: 0.2769, Test Accuracy: 56.67%\n",
      "total: 240, correct: 137\n",
      "Epoch 7/10, Train Loss: 1.1327, Test Accuracy: 57.08%\n",
      "total: 240, correct: 126\n",
      "Epoch 8/10, Train Loss: 0.0768, Test Accuracy: 52.50%\n",
      "total: 240, correct: 127\n",
      "Epoch 9/10, Train Loss: 3.3468, Test Accuracy: 52.92%\n",
      "total: 240, correct: 126\n",
      "Epoch 10/10, Train Loss: 13.6353, Test Accuracy: 52.50%\n"
     ]
    },
    {
     "data": {
      "image/png": "[encoded data removed]",
      "text/plain": [
       "<Figure size 640x480 with 1 Axes>"
      ]
     },
     "metadata": {},
     "output_type": "display_data"
    }
   ],
   "source": [
    "num_epochs = 10\n",
    "losses = []\n",
    "accuracies = []\n",
    "for epoch in range(num_epochs):\n",
    "    train_loss = train(model, train_loader, optimizer, criterion)\n",
    "    accuracy = evaluate(model, test_loader)\n",
    "    losses.append(train_loss)\n",
    "    accuracies.append(accuracy*100)\n",
    "    print(f\"Epoch {epoch+1}/{num_epochs}, Train Loss: {train_loss:.4f}, Test Accuracy: {accuracy*100:.2f}%\")\n",
    "torch.save(model.state_dict(), 'binary_classifier_cnn.pth')\n",
    "# plot loss and accuracy to one graph\n",
    "plt.plot(losses, label='loss')\n",
    "plt.gca().set_ylim(bottom=0, top=200)\n",
    "plt.plot(accuracies, label='accuracy')\n",
    "plt.legend()\n",
    "plt.savefig('100_loss_accuracy.png')\n",
    "plt.show()\n",
    "\n",
    "# Save the trained model\n",
    "# torch.save(model.state_dict(), 'binary_classifier_cnn.pth')"
   ]
  },
  {
   "cell_type": "code",
   "execution_count": 6,
   "metadata": {
    "ExecuteTime": {
     "end_time": "2023-12-03T15:38:46.535305600Z",
     "start_time": "2023-12-03T15:38:46.320344600Z"
    },
    "collapsed": false
   },
   "outputs": [
    {
     "data": {
      "image/png": "[encoded data removed]",
      "text/plain": [
       "<Figure size 640x480 with 1 Axes>"
      ]
     },
     "metadata": {},
     "output_type": "display_data"
    }
   ],
   "source": [
    "acc = [52.50, 82.50, 86.25, 83.75, 79.58]\n",
    "data = [100, 150, 200, 250, 280]\n",
    "plt.plot(data, acc, label='accuracy')\n",
    "plt.xlabel('training data')\n",
    "plt.ylabel('accuracy')\n",
    "plt.legend()\n",
    "plt.savefig('acc.png')\n",
    "plt.show()"
   ]
  },
  {
   "cell_type": "markdown",
   "metadata": {},
   "source": [
    "# Live demo"
   ]
  },
  {
   "cell_type": "code",
   "execution_count": 28,
   "metadata": {
    "vscode": {
     "languageId": "julia"
    },
    "ExecuteTime": {
     "end_time": "2024-01-15T10:34:51.308068200Z",
     "start_time": "2024-01-15T10:34:50.184127400Z"
    }
   },
   "outputs": [
    {
     "name": "stdout",
     "output_type": "stream",
     "text": [
      "Our image: 0\n",
      "Foreign image: 1\n"
     ]
    }
   ],
   "source": [
    "import torch\n",
    "from torchvision import transforms\n",
    "from PIL import Image\n",
    "\n",
    "# Assume you have a function read_image that returns a PIL Image\n",
    "def read_image(path):\n",
    "    return Image.open(path)\n",
    "# load model\n",
    "model = CNN()\n",
    "model.load_state_dict(torch.load('binary_classifier_cnn.pth'))\n",
    "\n",
    "# load our and foreign image:\n",
    "our_image = read_image('./demo/our1.png')\n",
    "foreign_image = read_image('./demo/foreign1.png')\n",
    "\n",
    "# convert to tensor\n",
    "transform = transforms.Compose([\n",
    "    transforms.Grayscale(num_output_channels=1),\n",
    "    transforms.ToTensor(),\n",
    "    transforms.Normalize((0.5,), (0.5,))\n",
    "])\n",
    "\n",
    "# transform images\n",
    "our_image = transform(our_image)\n",
    "foreign_image = transform(foreign_image)\n",
    "\n",
    "# evaluate images\n",
    "our_image = our_image.unsqueeze(0)\n",
    "foreign_image = foreign_image.unsqueeze(0)\n",
    "our_output = model(our_image)\n",
    "foreign_output = model(foreign_image)\n",
    "\n",
    "# evaluate:\n",
    "our_output = torch.squeeze(our_output)\n",
    "foreign_output = torch.squeeze(foreign_output)\n",
    "our_output = (our_output > 0).int()\n",
    "foreign_output = (foreign_output > 0).int()\n",
    "\n",
    "\n",
    "# print results\n",
    "print(f'Our image: {our_output}')\n",
    "print(f'Foreign image: {foreign_output}')\n"
   ]
  }
 ],
 "metadata": {
  "colab": {
   "provenance": []
  },
  "kernelspec": {
   "display_name": "Python 3 (ipykernel)",
   "language": "python",
   "name": "python3"
  },
  "language_info": {
   "name": "python"
  }
 },
 "nbformat": 4,
 "nbformat_minor": 0
}
