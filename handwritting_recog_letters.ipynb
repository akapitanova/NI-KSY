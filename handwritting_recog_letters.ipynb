{
  "cells": [
    {
      "cell_type": "markdown",
      "source": [
        "# Data loading"
      ],
      "metadata": {
        "id": "AXJxkc2_AguP"
      }
    },
    {
      "cell_type": "code",
      "execution_count": null,
      "metadata": {
        "colab": {
          "base_uri": "https://localhost:8080/"
        },
        "id": "V4oseuDC80YX",
        "outputId": "0db91101-d019-4672-bfdb-2cbd4496ab6d"
      },
      "outputs": [
        {
          "output_type": "stream",
          "name": "stdout",
          "text": [
            "Done\n"
          ]
        }
      ],
      "source": [
        "from zipfile import ZipFile\n",
        "train = './train.zip'\n",
        "\n",
        "with ZipFile(train, 'r') as zip:\n",
        "  zip.extractall()\n",
        "  print('Done')"
      ]
    },
    {
      "cell_type": "code",
      "execution_count": null,
      "metadata": {
        "id": "OJcrkqCl80DR",
        "colab": {
          "base_uri": "https://localhost:8080/"
        },
        "outputId": "1a84c435-1b2b-4a6d-bc4a-e8b190af8dad"
      },
      "outputs": [
        {
          "output_type": "stream",
          "name": "stdout",
          "text": [
            "Done\n"
          ]
        }
      ],
      "source": [
        "from zipfile import ZipFile\n",
        "test = './test.zip'\n",
        "\n",
        "with ZipFile(test, 'r') as zip:\n",
        "  zip.extractall()\n",
        "  print('Done')"
      ]
    },
    {
      "cell_type": "code",
      "source": [
        "import torch\n",
        "import torch.nn as nn\n",
        "import torch.optim as optim\n",
        "import torchvision.transforms as transforms\n",
        "from torch.utils.data import DataLoader, Dataset\n",
        "from torchvision.datasets import ImageFolder\n",
        "from torchvision.io import read_image\n",
        "from torch.utils.data import DataLoader\n",
        "from torch.utils.data import Dataset\n",
        "import os\n",
        "import torch.nn.functional as F\n",
        "import torchvision"
      ],
      "metadata": {
        "id": "M0hobcehCRlp"
      },
      "execution_count": 11,
      "outputs": []
    },
    {
      "cell_type": "markdown",
      "source": [
        "# Data preprossing"
      ],
      "metadata": {
        "id": "AAJ0zUpdAm98"
      }
    },
    {
      "cell_type": "code",
      "source": [
        "# Data preprocessing\n",
        "transform = transforms.Compose([\n",
        "    transforms.Grayscale(num_output_channels=1),\n",
        "    transforms.ToTensor(),\n",
        "    transforms.Normalize((0.5,), (0.5,))\n",
        "])"
      ],
      "metadata": {
        "id": "saI77vxKAy2A"
      },
      "execution_count": 12,
      "outputs": []
    },
    {
      "cell_type": "code",
      "source": [
        "train_dir = './train'\n",
        "test_dir = './test'"
      ],
      "metadata": {
        "id": "QQUDF5efAyrx"
      },
      "execution_count": 13,
      "outputs": []
    },
    {
      "cell_type": "code",
      "source": [
        "# Create datasets\n",
        "train_dataset = ImageFolder(train_dir, transform=transform)\n",
        "test_dataset = ImageFolder(test_dir, transform=transform)"
      ],
      "metadata": {
        "id": "AAT7z4QpC4WU"
      },
      "execution_count": 14,
      "outputs": []
    },
    {
      "cell_type": "markdown",
      "source": [
        "# Training"
      ],
      "metadata": {
        "id": "Wauxgc0_AwGI"
      }
    },
    {
      "cell_type": "code",
      "execution_count": 25,
      "metadata": {
        "id": "inab5UGx0uVU"
      },
      "outputs": [],
      "source": [
        "# Hyperparameters\n",
        "batch_size = 64\n",
        "num_epochs = 10\n",
        "learning_rate = 0.001"
      ]
    },
    {
      "cell_type": "code",
      "execution_count": 26,
      "metadata": {
        "id": "xadS7gBN30zV"
      },
      "outputs": [],
      "source": [
        "# Create data loaders\n",
        "train_loader = DataLoader(train_dataset, batch_size=batch_size, shuffle=True)\n",
        "test_loader = DataLoader(test_dataset, batch_size=batch_size, shuffle=True)"
      ]
    },
    {
      "cell_type": "code",
      "source": [
        "class CNN(nn.Module):\n",
        "    def __init__(self):\n",
        "        super(CNN, self).__init__()\n",
        "        self.conv1 = nn.Conv2d(1, 32, kernel_size=3, stride=1, padding=1)\n",
        "        self.pool = nn.MaxPool2d(kernel_size=2, stride=2, padding=0)\n",
        "        self.fc1 = nn.Linear(32 * 14 * 14, 128)\n",
        "        self.fc2 = nn.Linear(128, 1)\n",
        "\n",
        "    def forward(self, x):\n",
        "        x = self.pool(F.relu(self.conv1(x)))\n",
        "        x = x.view(-1, 32 * 14 * 14)\n",
        "        x = F.relu(self.fc1(x))\n",
        "        x = self.fc2(x)\n",
        "        return x"
      ],
      "metadata": {
        "id": "9DbL8mnRVJSG"
      },
      "execution_count": null,
      "outputs": []
    },
    {
      "cell_type": "code",
      "source": [],
      "metadata": {
        "id": "Tg-y_3QAlZdO"
      },
      "execution_count": null,
      "outputs": []
    },
    {
      "cell_type": "code",
      "source": [
        "model = CNN()\n",
        "criterion = nn.BCEWithLogitsLoss()\n",
        "optimizer = optim.Adam(model.parameters(), lr=0.001)"
      ],
      "metadata": {
        "id": "18obzU3WVJN6"
      },
      "execution_count": null,
      "outputs": []
    },
    {
      "cell_type": "code",
      "source": [
        "def train(model, train_loader, optimizer, criterion):\n",
        "    train_loss = 0\n",
        "\n",
        "    model.train()\n",
        "    for inputs, labels in train_loader:\n",
        "        optimizer.zero_grad()\n",
        "        outputs = model(inputs)\n",
        "        #print(outputs.shape)\n",
        "        outputs = torch.squeeze(outputs)\n",
        "        #print(outputs.shape)\n",
        "        loss = criterion(outputs, labels.float())\n",
        "        loss.backward()\n",
        "        optimizer.step()\n",
        "\n",
        "        train_loss += loss.item()*inputs.size(0)\n",
        "\n",
        "    return train_loss\n",
        "\n",
        "def evaluate(model, test_loader):\n",
        "    model.eval()\n",
        "    correct = 0\n",
        "    total = 0\n",
        "    with torch.no_grad():\n",
        "        for inputs, labels in test_loader:\n",
        "            outputs = model(inputs)\n",
        "            #print(outputs.shape)\n",
        "            outputs = torch.squeeze(outputs)\n",
        "            #print(outputs.shape)\n",
        "            predicted = (outputs > 0).int()  # Convert logits to binary predictions\n",
        "            total += labels.size(0)\n",
        "            correct += (predicted == labels).sum().item()\n",
        "    accuracy = correct / total\n",
        "    print(f'total: {total}, correct: {correct}')\n",
        "    return accuracy\n"
      ],
      "metadata": {
        "id": "zjHs--fOVJJ5"
      },
      "execution_count": 50,
      "outputs": []
    },
    {
      "cell_type": "code",
      "source": [
        "num_epochs = 10\n",
        "for epoch in range(num_epochs):\n",
        "    train_loss = train(model, train_loader, optimizer, criterion)\n",
        "    accuracy = evaluate(model, test_loader)\n",
        "    print(f\"Epoch {epoch+1}/{num_epochs}, Test Accuracy: {accuracy:.4f}\")\n",
        "\n",
        "# Save the trained model\n",
        "torch.save(model.state_dict(), 'binary_classifier_cnn.pth')"
      ],
      "metadata": {
        "colab": {
          "base_uri": "https://localhost:8080/"
        },
        "id": "fii26uujrOae",
        "outputId": "f7434030-2b34-4f14-da77-c60469e2581a"
      },
      "execution_count": 52,
      "outputs": [
        {
          "output_type": "stream",
          "name": "stdout",
          "text": [
            "total: 2080, correct: 2078\n",
            "Epoch 1/10, Test Accuracy: 0.9990\n",
            "total: 2080, correct: 2079\n",
            "Epoch 2/10, Test Accuracy: 0.9995\n",
            "total: 2080, correct: 2079\n",
            "Epoch 3/10, Test Accuracy: 0.9995\n",
            "total: 2080, correct: 2079\n",
            "Epoch 4/10, Test Accuracy: 0.9995\n",
            "total: 2080, correct: 2079\n",
            "Epoch 5/10, Test Accuracy: 0.9995\n",
            "total: 2080, correct: 2079\n",
            "Epoch 6/10, Test Accuracy: 0.9995\n",
            "total: 2080, correct: 2079\n",
            "Epoch 7/10, Test Accuracy: 0.9995\n",
            "total: 2080, correct: 2079\n",
            "Epoch 8/10, Test Accuracy: 0.9995\n",
            "total: 2080, correct: 2078\n",
            "Epoch 9/10, Test Accuracy: 0.9990\n",
            "total: 2080, correct: 2079\n",
            "Epoch 10/10, Test Accuracy: 0.9995\n"
          ]
        }
      ]
    },
    {
      "cell_type": "code",
      "source": [],
      "metadata": {
        "id": "qzlMA89FVI2T"
      },
      "execution_count": null,
      "outputs": []
    },
    {
      "cell_type": "code",
      "source": [],
      "metadata": {
        "id": "R0VZ4C8hUSry"
      },
      "execution_count": null,
      "outputs": []
    }
  ],
  "metadata": {
    "colab": {
      "provenance": []
    },
    "kernelspec": {
      "display_name": "Python 3",
      "name": "python3"
    },
    "language_info": {
      "name": "python"
    }
  },
  "nbformat": 4,
  "nbformat_minor": 0
}